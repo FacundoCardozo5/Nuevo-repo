{
 "cells": [
  {
   "cell_type": "code",
   "execution_count": 1,
   "metadata": {},
   "outputs": [
    {
     "name": "stdout",
     "output_type": "stream",
     "text": [
      "Requirement already satisfied: spotipy in /usr/local/python/3.10.4/lib/python3.10/site-packages (2.23.0)\n",
      "Requirement already satisfied: requests>=2.25.0 in /home/codespace/.local/lib/python3.10/site-packages (from spotipy) (2.28.2)\n",
      "Requirement already satisfied: urllib3>=1.26.0 in /home/codespace/.local/lib/python3.10/site-packages (from spotipy) (1.26.15)\n",
      "Requirement already satisfied: six>=1.15.0 in /home/codespace/.local/lib/python3.10/site-packages (from spotipy) (1.16.0)\n",
      "Requirement already satisfied: redis>=3.5.3 in /usr/local/python/3.10.4/lib/python3.10/site-packages (from spotipy) (4.5.4)\n",
      "Requirement already satisfied: async-timeout>=4.0.2 in /usr/local/python/3.10.4/lib/python3.10/site-packages (from redis>=3.5.3->spotipy) (4.0.2)\n",
      "Requirement already satisfied: charset-normalizer<4,>=2 in /home/codespace/.local/lib/python3.10/site-packages (from requests>=2.25.0->spotipy) (3.1.0)\n",
      "Requirement already satisfied: certifi>=2017.4.17 in /home/codespace/.local/lib/python3.10/site-packages (from requests>=2.25.0->spotipy) (2022.12.7)\n",
      "Requirement already satisfied: idna<4,>=2.5 in /home/codespace/.local/lib/python3.10/site-packages (from requests>=2.25.0->spotipy) (3.4)\n"
     ]
    }
   ],
   "source": [
    "!pip install spotipy\n"
   ]
  },
  {
   "cell_type": "code",
   "execution_count": 2,
   "metadata": {},
   "outputs": [],
   "source": [
    "import spotipy\n"
   ]
  },
  {
   "cell_type": "code",
   "execution_count": 3,
   "metadata": {},
   "outputs": [],
   "source": [
    "from spotipy.oauth2 import SpotifyClientCredentials"
   ]
  },
  {
   "cell_type": "code",
   "execution_count": 12,
   "metadata": {},
   "outputs": [],
   "source": [
    "client_id = 'dcaabffedff741a3bc9ce800753a194e'\n",
    "\n",
    "client_secret = 'c76be25deb824ee3a70fef1bc26d6148'\n",
    "\n",
    "client_credentials_manager = SpotifyClientCredentials(client_id=client_id, client_secret=client_secret)\n",
    "\n",
    "sp = spotipy.Spotify(client_credentials_manager=client_credentials_manager)"
   ]
  },
  {
   "cell_type": "code",
   "execution_count": 13,
   "metadata": {},
   "outputs": [],
   "source": [
    "resultados = sp.search(q='Black Sabbath', type='artist')\n",
    "artista = resultados['artists']['items'][0]\n",
    "id_artista = artista['id']\n"
   ]
  },
  {
   "cell_type": "code",
   "execution_count": 14,
   "metadata": {},
   "outputs": [],
   "source": [
    "info_artista = sp.artist(id_artista)\n"
   ]
  },
  {
   "cell_type": "code",
   "execution_count": 15,
   "metadata": {},
   "outputs": [],
   "source": [
    "albums = sp.artist_albums(id_artista, album_type='album')\n"
   ]
  },
  {
   "cell_type": "code",
   "execution_count": 16,
   "metadata": {},
   "outputs": [],
   "source": [
    "import pandas as pd"
   ]
  },
  {
   "cell_type": "code",
   "execution_count": 18,
   "metadata": {},
   "outputs": [
    {
     "data": {
      "text/html": [
       "<div>\n",
       "<style scoped>\n",
       "    .dataframe tbody tr th:only-of-type {\n",
       "        vertical-align: middle;\n",
       "    }\n",
       "\n",
       "    .dataframe tbody tr th {\n",
       "        vertical-align: top;\n",
       "    }\n",
       "\n",
       "    .dataframe thead th {\n",
       "        text-align: right;\n",
       "    }\n",
       "</style>\n",
       "<table border=\"1\" class=\"dataframe\">\n",
       "  <thead>\n",
       "    <tr style=\"text-align: right;\">\n",
       "      <th></th>\n",
       "      <th>album_group</th>\n",
       "      <th>album_type</th>\n",
       "      <th>artists</th>\n",
       "      <th>available_markets</th>\n",
       "      <th>external_urls</th>\n",
       "      <th>href</th>\n",
       "      <th>id</th>\n",
       "      <th>images</th>\n",
       "      <th>name</th>\n",
       "      <th>release_date</th>\n",
       "      <th>release_date_precision</th>\n",
       "      <th>total_tracks</th>\n",
       "      <th>type</th>\n",
       "      <th>uri</th>\n",
       "    </tr>\n",
       "  </thead>\n",
       "  <tbody>\n",
       "    <tr>\n",
       "      <th>0</th>\n",
       "      <td>album</td>\n",
       "      <td>album</td>\n",
       "      <td>[{'external_urls': {'spotify': 'https://open.s...</td>\n",
       "      <td>[AR, AU, AT, BE, BO, BR, BG, CL, CO, CR, CY, C...</td>\n",
       "      <td>{'spotify': 'https://open.spotify.com/album/2P...</td>\n",
       "      <td>https://api.spotify.com/v1/albums/2P5gxeAtl48V...</td>\n",
       "      <td>2P5gxeAtl48VpihBehjrzK</td>\n",
       "      <td>[{'height': 640, 'url': 'https://i.scdn.co/ima...</td>\n",
       "      <td>Mob Rules (Remastered and Expanded Version)</td>\n",
       "      <td>2022-11-18</td>\n",
       "      <td>day</td>\n",
       "      <td>31</td>\n",
       "      <td>album</td>\n",
       "      <td>spotify:album:2P5gxeAtl48VpihBehjrzK</td>\n",
       "    </tr>\n",
       "    <tr>\n",
       "      <th>1</th>\n",
       "      <td>album</td>\n",
       "      <td>album</td>\n",
       "      <td>[{'external_urls': {'spotify': 'https://open.s...</td>\n",
       "      <td>[IN]</td>\n",
       "      <td>{'spotify': 'https://open.spotify.com/album/4A...</td>\n",
       "      <td>https://api.spotify.com/v1/albums/4A3WA00scrsl...</td>\n",
       "      <td>4A3WA00scrslsCKCrzrEVD</td>\n",
       "      <td>[{'height': 640, 'url': 'https://i.scdn.co/ima...</td>\n",
       "      <td>Mob Rules (Remastered and Expanded Version)</td>\n",
       "      <td>2022-11-18</td>\n",
       "      <td>day</td>\n",
       "      <td>31</td>\n",
       "      <td>album</td>\n",
       "      <td>spotify:album:4A3WA00scrslsCKCrzrEVD</td>\n",
       "    </tr>\n",
       "    <tr>\n",
       "      <th>2</th>\n",
       "      <td>album</td>\n",
       "      <td>album</td>\n",
       "      <td>[{'external_urls': {'spotify': 'https://open.s...</td>\n",
       "      <td>[AR, AU, AT, BE, BO, BR, BG, CL, CO, CR, CY, C...</td>\n",
       "      <td>{'spotify': 'https://open.spotify.com/album/26...</td>\n",
       "      <td>https://api.spotify.com/v1/albums/26qNv63RLAxR...</td>\n",
       "      <td>26qNv63RLAxRIzOCK4dtmR</td>\n",
       "      <td>[{'height': 640, 'url': 'https://i.scdn.co/ima...</td>\n",
       "      <td>Heaven and Hell (Remastered and Expanded Edition)</td>\n",
       "      <td>2022-11-04</td>\n",
       "      <td>day</td>\n",
       "      <td>19</td>\n",
       "      <td>album</td>\n",
       "      <td>spotify:album:26qNv63RLAxRIzOCK4dtmR</td>\n",
       "    </tr>\n",
       "    <tr>\n",
       "      <th>3</th>\n",
       "      <td>album</td>\n",
       "      <td>album</td>\n",
       "      <td>[{'external_urls': {'spotify': 'https://open.s...</td>\n",
       "      <td>[IN]</td>\n",
       "      <td>{'spotify': 'https://open.spotify.com/album/5Z...</td>\n",
       "      <td>https://api.spotify.com/v1/albums/5ZRKni8wHfmY...</td>\n",
       "      <td>5ZRKni8wHfmYd466mTYU3m</td>\n",
       "      <td>[{'height': 640, 'url': 'https://i.scdn.co/ima...</td>\n",
       "      <td>Heaven and Hell (Remastered and Expanded Edition)</td>\n",
       "      <td>2022-11-04</td>\n",
       "      <td>day</td>\n",
       "      <td>19</td>\n",
       "      <td>album</td>\n",
       "      <td>spotify:album:5ZRKni8wHfmYd466mTYU3m</td>\n",
       "    </tr>\n",
       "    <tr>\n",
       "      <th>4</th>\n",
       "      <td>album</td>\n",
       "      <td>album</td>\n",
       "      <td>[{'external_urls': {'spotify': 'https://open.s...</td>\n",
       "      <td>[AE, AG, AZ, BA, BB, BI, BJ, BN, BO, BT, BW, B...</td>\n",
       "      <td>{'spotify': 'https://open.spotify.com/album/4Z...</td>\n",
       "      <td>https://api.spotify.com/v1/albums/4Z3LG0Xvk0JL...</td>\n",
       "      <td>4Z3LG0Xvk0JLnxMSSRpjQm</td>\n",
       "      <td>[{'height': 640, 'url': 'https://i.scdn.co/ima...</td>\n",
       "      <td>Iron Man</td>\n",
       "      <td>2022-09-30</td>\n",
       "      <td>day</td>\n",
       "      <td>8</td>\n",
       "      <td>album</td>\n",
       "      <td>spotify:album:4Z3LG0Xvk0JLnxMSSRpjQm</td>\n",
       "    </tr>\n",
       "  </tbody>\n",
       "</table>\n",
       "</div>"
      ],
      "text/plain": [
       "  album_group album_type                                            artists  \\\n",
       "0       album      album  [{'external_urls': {'spotify': 'https://open.s...   \n",
       "1       album      album  [{'external_urls': {'spotify': 'https://open.s...   \n",
       "2       album      album  [{'external_urls': {'spotify': 'https://open.s...   \n",
       "3       album      album  [{'external_urls': {'spotify': 'https://open.s...   \n",
       "4       album      album  [{'external_urls': {'spotify': 'https://open.s...   \n",
       "\n",
       "                                   available_markets  \\\n",
       "0  [AR, AU, AT, BE, BO, BR, BG, CL, CO, CR, CY, C...   \n",
       "1                                               [IN]   \n",
       "2  [AR, AU, AT, BE, BO, BR, BG, CL, CO, CR, CY, C...   \n",
       "3                                               [IN]   \n",
       "4  [AE, AG, AZ, BA, BB, BI, BJ, BN, BO, BT, BW, B...   \n",
       "\n",
       "                                       external_urls  \\\n",
       "0  {'spotify': 'https://open.spotify.com/album/2P...   \n",
       "1  {'spotify': 'https://open.spotify.com/album/4A...   \n",
       "2  {'spotify': 'https://open.spotify.com/album/26...   \n",
       "3  {'spotify': 'https://open.spotify.com/album/5Z...   \n",
       "4  {'spotify': 'https://open.spotify.com/album/4Z...   \n",
       "\n",
       "                                                href                      id  \\\n",
       "0  https://api.spotify.com/v1/albums/2P5gxeAtl48V...  2P5gxeAtl48VpihBehjrzK   \n",
       "1  https://api.spotify.com/v1/albums/4A3WA00scrsl...  4A3WA00scrslsCKCrzrEVD   \n",
       "2  https://api.spotify.com/v1/albums/26qNv63RLAxR...  26qNv63RLAxRIzOCK4dtmR   \n",
       "3  https://api.spotify.com/v1/albums/5ZRKni8wHfmY...  5ZRKni8wHfmYd466mTYU3m   \n",
       "4  https://api.spotify.com/v1/albums/4Z3LG0Xvk0JL...  4Z3LG0Xvk0JLnxMSSRpjQm   \n",
       "\n",
       "                                              images  \\\n",
       "0  [{'height': 640, 'url': 'https://i.scdn.co/ima...   \n",
       "1  [{'height': 640, 'url': 'https://i.scdn.co/ima...   \n",
       "2  [{'height': 640, 'url': 'https://i.scdn.co/ima...   \n",
       "3  [{'height': 640, 'url': 'https://i.scdn.co/ima...   \n",
       "4  [{'height': 640, 'url': 'https://i.scdn.co/ima...   \n",
       "\n",
       "                                                name release_date  \\\n",
       "0        Mob Rules (Remastered and Expanded Version)   2022-11-18   \n",
       "1        Mob Rules (Remastered and Expanded Version)   2022-11-18   \n",
       "2  Heaven and Hell (Remastered and Expanded Edition)   2022-11-04   \n",
       "3  Heaven and Hell (Remastered and Expanded Edition)   2022-11-04   \n",
       "4                                           Iron Man   2022-09-30   \n",
       "\n",
       "  release_date_precision  total_tracks   type  \\\n",
       "0                    day            31  album   \n",
       "1                    day            31  album   \n",
       "2                    day            19  album   \n",
       "3                    day            19  album   \n",
       "4                    day             8  album   \n",
       "\n",
       "                                    uri  \n",
       "0  spotify:album:2P5gxeAtl48VpihBehjrzK  \n",
       "1  spotify:album:4A3WA00scrslsCKCrzrEVD  \n",
       "2  spotify:album:26qNv63RLAxRIzOCK4dtmR  \n",
       "3  spotify:album:5ZRKni8wHfmYd466mTYU3m  \n",
       "4  spotify:album:4Z3LG0Xvk0JLnxMSSRpjQm  "
      ]
     },
     "execution_count": 18,
     "metadata": {},
     "output_type": "execute_result"
    }
   ],
   "source": [
    "df_albums = pd.DataFrame(albums['items'])\n",
    "df_albums.head()"
   ]
  }
 ],
 "metadata": {
  "kernelspec": {
   "display_name": "Python 3",
   "language": "python",
   "name": "python3"
  },
  "language_info": {
   "codemirror_mode": {
    "name": "ipython",
    "version": 3
   },
   "file_extension": ".py",
   "mimetype": "text/x-python",
   "name": "python",
   "nbconvert_exporter": "python",
   "pygments_lexer": "ipython3",
   "version": "3.10.4"
  },
  "orig_nbformat": 4
 },
 "nbformat": 4,
 "nbformat_minor": 2
}
