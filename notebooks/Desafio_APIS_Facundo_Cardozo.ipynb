{
 "cells": [
  {
   "attachments": {},
   "cell_type": "markdown",
   "metadata": {},
   "source": [
    "## UTILIZACIÓN DE API SPOTIFY"
   ]
  },
  {
   "cell_type": "code",
   "execution_count": 1,
   "metadata": {},
   "outputs": [
    {
     "name": "stdout",
     "output_type": "stream",
     "text": [
      "{\n",
      "    \"external_urls\": {\n",
      "        \"spotify\": \"https://open.spotify.com/artist/4gzpq5DPGxSnKTe4SA8HAU\"\n",
      "    },\n",
      "    \"followers\": {\n",
      "        \"href\": null,\n",
      "        \"total\": 42933501\n",
      "    },\n",
      "    \"genres\": [\n",
      "        \"permanent wave\",\n",
      "        \"pop\"\n",
      "    ],\n",
      "    \"href\": \"https://api.spotify.com/v1/artists/4gzpq5DPGxSnKTe4SA8HAU\",\n",
      "    \"id\": \"4gzpq5DPGxSnKTe4SA8HAU\",\n",
      "    \"images\": [\n",
      "        {\n",
      "            \"height\": 640,\n",
      "            \"url\": \"https://i.scdn.co/image/ab6761610000e5eb989ed05e1f0570cc4726c2d3\",\n",
      "            \"width\": 640\n",
      "        },\n",
      "        {\n",
      "            \"height\": 320,\n",
      "            \"url\": \"https://i.scdn.co/image/ab67616100005174989ed05e1f0570cc4726c2d3\",\n",
      "            \"width\": 320\n",
      "        },\n",
      "        {\n",
      "            \"height\": 160,\n",
      "            \"url\": \"https://i.scdn.co/image/ab6761610000f178989ed05e1f0570cc4726c2d3\",\n",
      "            \"width\": 160\n",
      "        }\n",
      "    ],\n",
      "    \"name\": \"Coldplay\",\n",
      "    \"popularity\": 90,\n",
      "    \"type\": \"artist\",\n",
      "    \"uri\": \"spotify:artist:4gzpq5DPGxSnKTe4SA8HAU\"\n",
      "}\n"
     ]
    }
   ],
   "source": [
    "import requests\n",
    "import json\n",
    "import pandas as pd\n",
    "\n",
    "# OBTENCIÓN DE CREDENCIALES\n",
    "client_id = 'dcaabffedff741a3bc9ce800753a194e'\n",
    "client_secret = 'c76be25deb824ee3a70fef1bc26d6148'\n",
    "\n",
    "# AUTENTICACIÓN\n",
    "auth_url = 'https://accounts.spotify.com/api/token'\n",
    "auth_response = requests.post(auth_url, {\n",
    "    'grant_type': 'client_credentials',\n",
    "    'client_id': client_id,\n",
    "    'client_secret': client_secret,\n",
    "})\n",
    "auth_response_data = auth_response.json()\n",
    "access_token = auth_response_data['access_token']\n",
    "\n",
    "\n",
    "endpoint_url = 'https://api.spotify.com/v1/artists/4gzpq5DPGxSnKTe4SA8HAU'\n",
    "headers = {\n",
    "    'Authorization': 'Bearer ' + access_token\n",
    "}\n",
    "response = requests.get(endpoint_url, headers=headers)\n",
    "response_data = response.json()\n",
    "\n",
    "\n",
    "print(json.dumps(response_data, indent=4))\n"
   ]
  },
  {
   "cell_type": "code",
   "execution_count": 2,
   "metadata": {},
   "outputs": [],
   "source": [
    "data_dict = {\n",
    "    'name': response_data['name'],\n",
    "    'followers': response_data['followers']['total'],\n",
    "    'popularity': response_data['popularity'],\n",
    "    'genres': ','.join(response_data['genres']),\n",
    "    'uri': response_data['uri']\n",
    "}"
   ]
  },
  {
   "cell_type": "code",
   "execution_count": 3,
   "metadata": {},
   "outputs": [],
   "source": [
    "df = pd.DataFrame(data_dict, index=[0])"
   ]
  },
  {
   "cell_type": "code",
   "execution_count": 5,
   "metadata": {},
   "outputs": [
    {
     "data": {
      "text/html": [
       "<div>\n",
       "<style scoped>\n",
       "    .dataframe tbody tr th:only-of-type {\n",
       "        vertical-align: middle;\n",
       "    }\n",
       "\n",
       "    .dataframe tbody tr th {\n",
       "        vertical-align: top;\n",
       "    }\n",
       "\n",
       "    .dataframe thead th {\n",
       "        text-align: right;\n",
       "    }\n",
       "</style>\n",
       "<table border=\"1\" class=\"dataframe\">\n",
       "  <thead>\n",
       "    <tr style=\"text-align: right;\">\n",
       "      <th></th>\n",
       "      <th>name</th>\n",
       "      <th>followers</th>\n",
       "      <th>popularity</th>\n",
       "      <th>genres</th>\n",
       "      <th>uri</th>\n",
       "    </tr>\n",
       "  </thead>\n",
       "  <tbody>\n",
       "    <tr>\n",
       "      <th>0</th>\n",
       "      <td>Coldplay</td>\n",
       "      <td>42933501</td>\n",
       "      <td>90</td>\n",
       "      <td>permanent wave,pop</td>\n",
       "      <td>spotify:artist:4gzpq5DPGxSnKTe4SA8HAU</td>\n",
       "    </tr>\n",
       "  </tbody>\n",
       "</table>\n",
       "</div>"
      ],
      "text/plain": [
       "       name  followers  popularity              genres  \\\n",
       "0  Coldplay   42933501          90  permanent wave,pop   \n",
       "\n",
       "                                     uri  \n",
       "0  spotify:artist:4gzpq5DPGxSnKTe4SA8HAU  "
      ]
     },
     "execution_count": 5,
     "metadata": {},
     "output_type": "execute_result"
    }
   ],
   "source": [
    "df.head()"
   ]
  }
 ],
 "metadata": {
  "kernelspec": {
   "display_name": "Python 3",
   "language": "python",
   "name": "python3"
  },
  "language_info": {
   "codemirror_mode": {
    "name": "ipython",
    "version": 3
   },
   "file_extension": ".py",
   "mimetype": "text/x-python",
   "name": "python",
   "nbconvert_exporter": "python",
   "pygments_lexer": "ipython3",
   "version": "3.10.4"
  },
  "orig_nbformat": 4
 },
 "nbformat": 4,
 "nbformat_minor": 2
}
